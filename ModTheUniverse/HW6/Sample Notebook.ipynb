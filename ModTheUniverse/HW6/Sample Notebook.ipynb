{
 "cells": [
  {
   "cell_type": "markdown",
   "metadata": {},
   "source": [
    "# Problem Set 6 Starter Code\n"
   ]
  },
  {
   "cell_type": "markdown",
   "metadata": {},
   "source": [
    "Here is a simple routine to compute the gravitational acceleration.  Feel free to use this or write your own."
   ]
  },
  {
   "cell_type": "code",
   "execution_count": 1,
   "metadata": {
    "collapsed": true
   },
   "outputs": [],
   "source": [
    "import numpy as np\n",
    "\n",
    "# define some physical constants\n",
    "\n",
    "#G            = 6.67e-11  # Gravitational constant [m^3/kg/s^2]\n",
    "#mass_solar   = 1.99e30   # solar mass [kg]\n",
    "#mass_earth   = 5.97e24   # mass of earth [kg]\n",
    "#AU           = 1.496e11  # Astronomical unit [m]\n",
    "\n",
    "# define dimensionless units (this is equivalent to above but in units\n",
    "#  such that one year is 2*pi time units, and 1 AU is one length unit).\n",
    "\n",
    "G = 1.0\n",
    "mass_solar = 1.0\n",
    "mass_earth = 3.0e-6\n",
    "AU = 1.0\n",
    "\n",
    "def ComputeAccel(x, m):\n",
    "    \"\"\" returns gravitational acceleration as a numpy array given positions (numyp array of\n",
    "        size [N,ndim] where N is the number of particles and ndim is the number of dimensions (2 or 3) \n",
    "        and masses (as numpy array of size [N]) \"\"\"\n",
    "    a = np.zeros_like(x)\n",
    "    nbodies = x.shape[0]\n",
    "    for i in range(nbodies):\n",
    "        for j in range(nbodies):\n",
    "            r = x[j]-x[i]\n",
    "            if i != j:\n",
    "                a[i] = a[i] + r*G*m[j]/pow(np.vdot(r, r), 1.5)\n",
    "    return a\n",
    "\n",
    "# Set initial conditions\n",
    "\n",
    "nbodies = 2\n",
    "x = np.zeros([nbodies,2])\n",
    "v = np.zeros([nbodies,2])\n",
    "m = np.zeros([nbodies])\n",
    "\n",
    "# set up sun\n",
    "\n",
    "x[0] = np.array([0.0, 0.0])\n",
    "v[0] = np.array([0.0, 0.0])\n",
    "m[0] = mass_solar"
   ]
  },
  {
   "cell_type": "code",
   "execution_count": null,
   "metadata": {
    "collapsed": true
   },
   "outputs": [],
   "source": []
  }
 ],
 "metadata": {
  "kernelspec": {
   "display_name": "Python [conda env:py35]",
   "language": "python",
   "name": "conda-env-py35-py"
  },
  "language_info": {
   "codemirror_mode": {
    "name": "ipython",
    "version": 3
   },
   "file_extension": ".py",
   "mimetype": "text/x-python",
   "name": "python",
   "nbconvert_exporter": "python",
   "pygments_lexer": "ipython3",
   "version": "3.5.4"
  }
 },
 "nbformat": 4,
 "nbformat_minor": 2
}
